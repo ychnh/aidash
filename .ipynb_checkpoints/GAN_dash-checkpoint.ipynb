{
 "cells": [
  {
   "cell_type": "code",
   "execution_count": 1,
   "metadata": {},
   "outputs": [
    {
     "name": "stdout",
     "output_type": "stream",
     "text": [
      "/lab/workspaces/aidash\n",
      "/lab\n"
     ]
    }
   ],
   "source": [
    "import os, glob, json\n",
    "for fname in glob.glob(os.path.join(os.environ['HOME'], \".jupyter/lab/workspaces/*\")):\n",
    "     with open (fname, \"r\") as read_file:\n",
    "         print (json.load(read_file)['metadata']['id'])"
   ]
  },
  {
   "cell_type": "code",
   "execution_count": 209,
   "metadata": {
    "extensions": {
     "jupyter_dashboards": {
      "version": 1,
      "views": {
       "grid_default": {},
       "report_default": {}
      }
     }
    }
   },
   "outputs": [
    {
     "name": "stdout",
     "output_type": "stream",
     "text": [
      "1571120454.8558185\n",
      "6.00692892074585\n"
     ]
    }
   ],
   "source": [
    "import time\n",
    "import datetime\n",
    "import os\n",
    "print( time.time() )\n",
    "\n",
    "now = datetime.datetime.fromtimestamp( time.time() )\n",
    "now =  time.time() \n",
    "then = datetime.datetime.fromtimestamp( os.path.getmtime( '/home/yhong/work/landcover/src/dataset/pix2pix/val_pred/') )\n",
    "time.sleep(6)\n",
    "then = datetime.datetime.fromtimestamp( time.time() )\n",
    "then= time.time() \n",
    "print(  then-now )\n"
   ]
  },
  {
   "cell_type": "code",
   "execution_count": 7,
   "metadata": {
    "extensions": {
     "jupyter_dashboards": {
      "version": 1,
      "views": {
       "grid_default": {},
       "report_default": {}
      }
     }
    },
    "slideshow": {
     "slide_type": "fragment"
    }
   },
   "outputs": [
    {
     "data": {
      "image/png": "[encoded data removed]",
      "text/plain": [
       "<Figure size 432x288 with 1 Axes>"
      ]
     },
     "metadata": {
      "needs_background": "light"
     },
     "output_type": "display_data"
    },
    {
     "ename": "KeyboardInterrupt",
     "evalue": "",
     "output_type": "error",
     "traceback": [
      "\u001b[0;31m---------------------------------------------------------------------------\u001b[0m",
      "\u001b[0;31mKeyboardInterrupt\u001b[0m                         Traceback (most recent call last)",
      "\u001b[0;32m<ipython-input-7-305501eb19c6>\u001b[0m in \u001b[0;36m<module>\u001b[0;34m\u001b[0m\n\u001b[1;32m     97\u001b[0m \u001b[0;34m\u001b[0m\u001b[0m\n\u001b[1;32m     98\u001b[0m \u001b[0;32mwhile\u001b[0m \u001b[0;32mTrue\u001b[0m\u001b[0;34m:\u001b[0m\u001b[0;34m\u001b[0m\u001b[0m\n\u001b[0;32m---> 99\u001b[0;31m     \u001b[0mtime\u001b[0m\u001b[0;34m.\u001b[0m\u001b[0msleep\u001b[0m\u001b[0;34m(\u001b[0m\u001b[0;36m1\u001b[0m\u001b[0;34m)\u001b[0m\u001b[0;34m\u001b[0m\u001b[0m\n\u001b[0m\u001b[1;32m    100\u001b[0m     \u001b[0;32mfor\u001b[0m \u001b[0muptr\u001b[0m \u001b[0;32min\u001b[0m \u001b[0mupdaters\u001b[0m\u001b[0;34m:\u001b[0m\u001b[0;34m\u001b[0m\u001b[0m\n\u001b[1;32m    101\u001b[0m         \u001b[0muptr\u001b[0m\u001b[0;34m.\u001b[0m\u001b[0mupdate\u001b[0m\u001b[0;34m(\u001b[0m\u001b[0;34m)\u001b[0m\u001b[0;34m\u001b[0m\u001b[0m\n",
      "\u001b[0;31mKeyboardInterrupt\u001b[0m: "
     ]
    }
   ],
   "source": [
    "import time\n",
    "from os.path import join\n",
    "import os\n",
    "from PIL import Image\n",
    "import ipywidgets as widgets\n",
    "import matplotlib.pyplot as plt\n",
    "import pickle\n",
    "from IPython.display import display,clear_output\n",
    "import io\n",
    "\n",
    "class Updater:\n",
    "    def __init__(self, path, widget):\n",
    "        self.path = path\n",
    "        self.widget = widget\n",
    "        self.widget_updated_time = 0\n",
    "        \n",
    "    def need_update(self):\n",
    "        file_modified_time = os.path.getmtime( self.path )\n",
    "        return (file_modified_time - self.widget_updated_time) > 0\n",
    "    \n",
    "    def reload(self):\n",
    "        if self.need_update():\n",
    "            self.update()\n",
    "            self.widget_updated_time = time.time()\n",
    "            \n",
    "    def update(self):\n",
    "        pass\n",
    "    \n",
    "class ImageUpdater(Updater):\n",
    "    def update(self):\n",
    "        imglist = ImageUpdater._getfiles(self.path, True)\n",
    "        if len(imglist) > 0:\n",
    "            newest_filepath = imglist[0]\n",
    "            \n",
    "            file = open(join(self.path, newest_filepath), \"rb\")\n",
    "            bimg = file.read()\n",
    "        else:\n",
    "            img = Image.new('RGB', (100, 100))\n",
    "            bimg = ImageUpdater.image_to_byte_array(img)\n",
    "            \n",
    "        \n",
    "        self.widget.value = bimg\n",
    "        \n",
    "    @staticmethod\n",
    "    def image_to_byte_array(image):\n",
    "        imgByteArr = io.BytesIO()\n",
    "        image.save(imgByteArr, format='PNG')\n",
    "        imgByteArr = imgByteArr.getvalue()\n",
    "        return imgByteArr\n",
    "            \n",
    "    @staticmethod\n",
    "    def _getfiles(dirpath, newest_first=True):\n",
    "        a = [s for s in os.listdir(dirpath)\n",
    "             if os.path.isfile(os.path.join(dirpath, s))]\n",
    "        a.sort(key=lambda s: os.path.getmtime(os.path.join(dirpath, s)), reverse=newest_first)\n",
    "        return a\n",
    "import random\n",
    "class GraphUpdater(Updater):\n",
    "    \n",
    "    def __init__(self, path, widget):\n",
    "        super().__init__(path, widget)\n",
    "        self.fig, self.axes = plt.subplots()\n",
    "    \n",
    "    def need_update(self):\n",
    "        return True\n",
    "    def update(self):\n",
    "        data = pickle.load( open( self.path, \"rb\" ) )\n",
    "        X = data['x']\n",
    "        Y = data['y']\n",
    "        M = max(Y)\n",
    "        with self.widget:\n",
    "            clear_output(wait=True)\n",
    "            plt.ylim(bottom=0, top=M+M//3)\n",
    "            plt.plot( X, Y) \n",
    "            plt.show(self.fig)\n",
    "\n",
    "\n",
    "out1 = widgets.Output()\n",
    "\n",
    "img = Image.new('RGB', (100, 100))\n",
    "image = ImageUpdater.image_to_byte_array(img)\n",
    "IM = widgets.Image( value=image, format='png', width=300, height=400)\n",
    "\n",
    "updaters = []\n",
    "updaters.append( ImageUpdater( '/home/yhong/work/landcover/src/dataset/pix2pix/val_pred/', IM ) )\n",
    "updaters.append( GraphUpdater( '/home/yhong/work/landcover/src/dataset/pix2pix/losses.data', out1) )\n",
    "\n",
    "from ipywidgets import GridspecLayout\n",
    "grid = GridspecLayout(2, 2, height='700px',align_items='center', justify_items='center')\n",
    "grid[ 0,0] = IM\n",
    "grid[ 1, 0] = IM\n",
    "display(grid)\n",
    "\n",
    "while True:\n",
    "    time.sleep(1)\n",
    "    for uptr in updaters:\n",
    "        uptr.update()\n"
   ]
  },
  {
   "cell_type": "code",
   "execution_count": 225,
   "metadata": {
    "extensions": {
     "jupyter_dashboards": {
      "version": 1,
      "views": {
       "grid_default": {},
       "report_default": {}
      }
     }
    }
   },
   "outputs": [
    {
     "name": "stdout",
     "output_type": "stream",
     "text": [
      "<class 'PIL.PngImagePlugin.PngImageFile'>\n"
     ]
    },
    {
     "data": {
      "text/plain": [
       "<matplotlib.image.AxesImage at 0x7f8d08dcceb8>"
      ]
     },
     "execution_count": 225,
     "metadata": {},
     "output_type": "execute_result"
    },
    {
     "data": {
      "image/png": "[encoded data removed]",
      "text/plain": [
       "<Figure size 432x288 with 1 Axes>"
      ]
     },
     "metadata": {
      "needs_background": "light"
     },
     "output_type": "display_data"
    }
   ],
   "source": [
    "# Probably want this to independant of the running progress. This means that the shell logger\n",
    "# should write to the files various logs and this reader will read the outputs of those logs including graphs and such\n",
    "# What should be a good way to package the data?\n",
    "# I want it to be as simple and as clear as possible\n",
    "# Need a reader to check if a file has been touched and changed\n",
    "# Watcher.update() -> True/False, Data or mayebe return nothing\n",
    "# Link (Watcher, Widget)\n",
    "# Update the widget value\n",
    "\n",
    "\n",
    "%matplotlib inline\n",
    "\n",
    "#%matplotlib notebook\n",
    "import os\n",
    "from matplotlib import pyplot\n",
    "from os.path import join\n",
    "from PIL import Image\n",
    "\n",
    "def getfiles(dirpath, newest_first=False):\n",
    "    reverse = newest_first\n",
    "    a = [s for s in os.listdir(dirpath)\n",
    "         if os.path.isfile(os.path.join(dirpath, s))]\n",
    "    a.sort(key=lambda s: os.path.getmtime(os.path.join(dirpath, s)), reverse=reverse)\n",
    "    return a\n",
    "image_dir = '/home/yhong/work/landcover/src/dataset/pix2pix/val_pred/'\n",
    "newest = getfiles('/home/yhong/work/landcover/src/dataset/pix2pix/val_pred/', True)[1]\n",
    "img = Image.open( join(image_dir, newest))\n",
    "#pyplot.figure(figsize=(15,10))\n",
    "print( type(img))\n",
    "pyplot.imshow( img )\n",
    "\n"
   ]
  },
  {
   "cell_type": "code",
   "execution_count": 227,
   "metadata": {
    "extensions": {
     "jupyter_dashboards": {
      "version": 1,
      "views": {
       "grid_default": {},
       "report_default": {}
      }
     }
    },
    "jupyter": {
     "source_hidden": true
    }
   },
   "outputs": [
    {
     "name": "stdout",
     "output_type": "stream",
     "text": [
      "<class 'bytes'>\n"
     ]
    }
   ],
   "source": [
    "import ipywidgets as widgets\n",
    "newest = getfiles('/home/yhong/work/landcover/src/dataset/pix2pix/val_pred/', True)[3]\n",
    "file = open(join(image_dir, newest), \"rb\")\n",
    "image = file.read()\n",
    "print(type(image))\n",
    "IM = widgets.Image(\n",
    "    value=image,\n",
    "    format='png',\n",
    "    width=300,\n",
    "    height=400,\n",
    ")\n",
    "\n",
    "LBL = widgets.Label(value=\"Output\")"
   ]
  },
  {
   "cell_type": "code",
   "execution_count": 122,
   "metadata": {
    "extensions": {
     "jupyter_dashboards": {
      "version": 1,
      "views": {
       "grid_default": {},
       "report_default": {}
      }
     }
    },
    "jupyter": {
     "source_hidden": true
    }
   },
   "outputs": [
    {
     "data": {
      "application/vnd.jupyter.widget-view+json": {
       "model_id": "a2c7228663bc4bdda7b8489ed1abd15a",
       "version_major": 2,
       "version_minor": 0
      },
      "text/plain": [
       "TwoByTwoLayout(children=(Button(button_style='warning', description='Bottom right', layout=Layout(grid_area='b…"
      ]
     },
     "metadata": {},
     "output_type": "display_data"
    },
    {
     "ename": "KeyboardInterrupt",
     "evalue": "",
     "output_type": "error",
     "traceback": [
      "\u001b[0;31m-------------\u001b[0m",
      "\u001b[0;31mKeyboardInterrupt\u001b[0mTraceback (most recent call last)",
      "\u001b[0;32m<ipython-input-122-a9a0a5eeead7>\u001b[0m in \u001b[0;36m<module>\u001b[0;34m\u001b[0m\n\u001b[1;32m     23\u001b[0m \u001b[0;32mimport\u001b[0m \u001b[0mtime\u001b[0m\u001b[0;34m\u001b[0m\u001b[0m\n\u001b[1;32m     24\u001b[0m \u001b[0;32mfor\u001b[0m \u001b[0mi\u001b[0m \u001b[0;32min\u001b[0m \u001b[0mrange\u001b[0m\u001b[0;34m(\u001b[0m\u001b[0;36m100\u001b[0m\u001b[0;34m)\u001b[0m\u001b[0;34m:\u001b[0m\u001b[0;34m\u001b[0m\u001b[0m\n\u001b[0;32m---> 25\u001b[0;31m     \u001b[0mtime\u001b[0m\u001b[0;34m.\u001b[0m\u001b[0msleep\u001b[0m\u001b[0;34m(\u001b[0m\u001b[0;36m1\u001b[0m\u001b[0;34m)\u001b[0m\u001b[0;34m\u001b[0m\u001b[0m\n\u001b[0m\u001b[1;32m     26\u001b[0m     \u001b[0mnewest\u001b[0m \u001b[0;34m=\u001b[0m \u001b[0mgetfiles\u001b[0m\u001b[0;34m(\u001b[0m\u001b[0;34m'/home/yhong/work/landcover/src/dataset/pix2pix/val_pred/'\u001b[0m\u001b[0;34m,\u001b[0m \u001b[0;32mTrue\u001b[0m\u001b[0;34m)\u001b[0m\u001b[0;34m[\u001b[0m\u001b[0mi\u001b[0m\u001b[0;34m]\u001b[0m\u001b[0;34m\u001b[0m\u001b[0m\n\u001b[1;32m     27\u001b[0m     \u001b[0mfile\u001b[0m \u001b[0;34m=\u001b[0m \u001b[0mopen\u001b[0m\u001b[0;34m(\u001b[0m\u001b[0mjoin\u001b[0m\u001b[0;34m(\u001b[0m\u001b[0mimage_dir\u001b[0m\u001b[0;34m,\u001b[0m \u001b[0mnewest\u001b[0m\u001b[0;34m)\u001b[0m\u001b[0;34m,\u001b[0m \u001b[0;34m\"rb\"\u001b[0m\u001b[0;34m)\u001b[0m\u001b[0;34m\u001b[0m\u001b[0m\n",
      "\u001b[0;31mKeyboardInterrupt\u001b[0m: "
     ]
    }
   ],
   "source": [
    "from ipywidgets import Button, Layout, jslink, IntText, IntSlider\n",
    "def create_expanded_button(description, button_style):\n",
    "    return Button(description=description, button_style=button_style, layout=Layout(height='auto', width='auto'))\n",
    "\n",
    "top_left_button = create_expanded_button(\"Top left\", 'info')\n",
    "top_right_button = create_expanded_button(\"Top right\", 'success')\n",
    "bottom_left_button = create_expanded_button(\"Bottom left\", 'danger')\n",
    "bottom_right_button = create_expanded_button(\"Bottom right\", 'warning')\n",
    "\n",
    "top_left_text = IntText(description='Top left', layout=Layout(width='auto', height='auto'))\n",
    "top_right_text = IntText(description='Top right', layout=Layout(width='auto', height='auto'))\n",
    "bottom_left_slider = IntSlider(description='Bottom left', layout=Layout(width='auto', height='auto'))\n",
    "bottom_right_slider = IntSlider(description='Bottom right', layout=Layout(width='auto', height='auto'))\n",
    "from ipywidgets import TwoByTwoLayout\n",
    "\n",
    "layout = TwoByTwoLayout(top_left=IM,\n",
    "               top_right=LBL,\n",
    "               bottom_left=bottom_left_button,\n",
    "               bottom_right=bottom_right_button)\n",
    "\n",
    "from IPython.display import display\n",
    "display( layout)\n",
    "import time\n",
    "for i in range(100):\n",
    "    time.sleep(1)\n",
    "    newest = getfiles('/home/yhong/work/landcover/src/dataset/pix2pix/val_pred/', True)[i]\n",
    "    file = open(join(image_dir, newest), \"rb\")\n",
    "    image = file.read()\n",
    "    IM.value = image"
   ]
  },
  {
   "cell_type": "code",
   "execution_count": 159,
   "metadata": {
    "extensions": {
     "jupyter_dashboards": {
      "version": 1,
      "views": {
       "grid_default": {},
       "report_default": {}
      }
     }
    },
    "jupyter": {
     "source_hidden": true
    }
   },
   "outputs": [
    {
     "data": {
      "application/vnd.jupyter.widget-view+json": {
       "model_id": "1ed7218f2a234393bda66ed925019fd4",
       "version_major": 2,
       "version_minor": 0
      },
      "text/plain": [
       "Tab(children=(Output(), Output()), _titles={'0': 'First', '1': 'Second'})"
      ]
     },
     "metadata": {},
     "output_type": "display_data"
    },
    {
     "ename": "KeyboardInterrupt",
     "evalue": "",
     "output_type": "error",
     "traceback": [
      "\u001b[0;31m-------------\u001b[0m",
      "\u001b[0;31mKeyboardInterrupt\u001b[0mTraceback (most recent call last)",
      "\u001b[0;32m<ipython-input-159-5e0dc71ca236>\u001b[0m in \u001b[0;36m<module>\u001b[0;34m\u001b[0m\n\u001b[1;32m     27\u001b[0m \u001b[0;34m\u001b[0m\u001b[0m\n\u001b[1;32m     28\u001b[0m \u001b[0;32mfor\u001b[0m \u001b[0mi\u001b[0m \u001b[0;32min\u001b[0m \u001b[0mrange\u001b[0m\u001b[0;34m(\u001b[0m\u001b[0;36m100\u001b[0m\u001b[0;34m)\u001b[0m\u001b[0;34m:\u001b[0m\u001b[0;34m\u001b[0m\u001b[0m\n\u001b[0;32m---> 29\u001b[0;31m     \u001b[0mtime\u001b[0m\u001b[0;34m.\u001b[0m\u001b[0msleep\u001b[0m\u001b[0;34m(\u001b[0m\u001b[0;36m.1\u001b[0m\u001b[0;34m)\u001b[0m\u001b[0;34m\u001b[0m\u001b[0m\n\u001b[0m\u001b[1;32m     30\u001b[0m     \u001b[0;32mwith\u001b[0m \u001b[0mout1\u001b[0m\u001b[0;34m:\u001b[0m\u001b[0;34m\u001b[0m\u001b[0m\n\u001b[1;32m     31\u001b[0m         \u001b[0mclear_output\u001b[0m\u001b[0;34m(\u001b[0m\u001b[0mwait\u001b[0m\u001b[0;34m=\u001b[0m\u001b[0;32mTrue\u001b[0m\u001b[0;34m)\u001b[0m\u001b[0;34m\u001b[0m\u001b[0m\n",
      "\u001b[0;31mKeyboardInterrupt\u001b[0m: "
     ]
    }
   ],
   "source": [
    "%matplotlib inline\n",
    "import matplotlib.pyplot as plt\n",
    "from IPython.display import display,clear_output\n",
    "import pandas as pd\n",
    "import ipywidgets as widgets\n",
    "import numpy as np\n",
    "\n",
    "out1 = widgets.Output()\n",
    "out2 = widgets.Output()\n",
    "data1 = pd.DataFrame(np.random.normal(size = 50))\n",
    "data2 = pd.DataFrame(np.random.normal(size = 100))\n",
    "\n",
    "#print(data1[0])\n",
    "\n",
    "tab = widgets.Tab(children = [out1, out2])\n",
    "tab.set_title(0, 'First')\n",
    "tab.set_title(1, 'Second')\n",
    "display(tab)\n",
    "\n",
    "\n",
    "with out2:\n",
    "    fig2, axes2 = plt.subplots()\n",
    "    data2.hist(ax = axes2)\n",
    "    plt.show(fig2)\n",
    "\n",
    "fig1, axes1 = plt.subplots()\n",
    "\n",
    "for i in range(100):\n",
    "    time.sleep(.1)\n",
    "    with out1:\n",
    "        clear_output(wait=True)\n",
    "        \n",
    "        x = np.linspace(0, 10, 1000)\n",
    "        plt.ylim(bottom=0, top=100)\n",
    "        plt.plot( x, x + i, '-g') \n",
    "        plt.show(fig1)\n",
    "        "
   ]
  },
  {
   "cell_type": "code",
   "execution_count": 229,
   "metadata": {
    "extensions": {
     "jupyter_dashboards": {
      "version": 1,
      "views": {
       "grid_default": {},
       "report_default": {}
      }
     }
    },
    "jupyter": {
     "source_hidden": true
    },
    "tags": [
     "hide_input"
    ]
   },
   "outputs": [
    {
     "data": {
      "application/vnd.jupyter.widget-view+json": {
       "model_id": "709c8205dad1445db9b385f8c1ff362c",
       "version_major": 2,
       "version_minor": 0
      },
      "text/plain": [
       "Tab(children=(GridspecLayout(children=(Textarea(value='Tue Oct 15 02:28:09 2019       \\n+---------------------…"
      ]
     },
     "metadata": {},
     "output_type": "display_data"
    }
   ],
   "source": [
    "\n",
    "import subprocess\n",
    "result = subprocess.run(['nvidia-smi'], stdout=subprocess.PIPE)\n",
    "\n",
    "#LBL = widgets.Label(value=result.stdout.decode(\"utf-8\"), layout=Layout(height='auto', width='auto'))\n",
    "LBL = widgets.Textarea( value = result.stdout.decode(\"utf-8\"), layout=Layout(height='auto', width='auto') )\n",
    "LBL.style.color = '#000000'\n",
    "LBL.style.fontSize = '18px'\n",
    "#LBL = widgets.Label(value = r'\\(\\color{Black} {' + 'Text'  + '}\\)')\n",
    "from ipywidgets import GridspecLayout\n",
    "grid = GridspecLayout(2, 2, height='800px')\n",
    "grid[ 0, 0] = IM \n",
    "grid[ 0, 1] = out1\n",
    "grid[ 1, 0:2] = LBL\n",
    "\n",
    "\n",
    "multiple_graph = widgets.Tab(children = [grid, grid])\n",
    "multiple_graph.set_title(0, 'A')\n",
    "multiple_graph.set_title(1, 'B')\n",
    "multiple_graph.add_class('body')\n",
    "\n",
    "display(multiple_graph)\n",
    " \n"
   ]
  },
  {
   "cell_type": "code",
   "execution_count": 161,
   "metadata": {
    "extensions": {
     "jupyter_dashboards": {
      "version": 1,
      "views": {
       "grid_default": {},
       "report_default": {}
      }
     }
    },
    "jupyter": {
     "source_hidden": true
    }
   },
   "outputs": [
    {
     "data": {
      "text/html": [
       "<style>\n",
       "    .jupyter-widgets.widget-tab > .widget-tab-contents {background: #232323;}\n",
       "</style>\n"
      ],
      "text/plain": [
       "<IPython.core.display.HTML object>"
      ]
     },
     "metadata": {},
     "output_type": "display_data"
    }
   ],
   "source": [
    "%%html\n",
    "<style>\n",
    "    .jupyter-widgets.widget-tab > .widget-tab-contents {background: #232323;}\n",
    "</style>"
   ]
  },
  {
   "cell_type": "code",
   "execution_count": 169,
   "metadata": {
    "extensions": {
     "jupyter_dashboards": {
      "version": 1,
      "views": {
       "grid_default": {},
       "report_default": {}
      }
     }
    },
    "jupyter": {
     "source_hidden": true
    },
    "tags": [
     "hide_input"
    ]
   },
   "outputs": [
    {
     "name": "stdout",
     "output_type": "stream",
     "text": [
      "Tue Oct 15 00:48:56 2019       \n",
      "+-----------------------------------------------------------------------------+\n",
      "| NVIDIA-SMI 410.48                 Driver Version: 410.48                    |\n",
      "|-------------------------------+----------------------+----------------------+\n",
      "| GPU  Name        Persistence-M| Bus-Id        Disp.A | Volatile Uncorr. ECC |\n",
      "| Fan  Temp  Perf  Pwr:Usage/Cap|         Memory-Usage | GPU-Util  Compute M. |\n",
      "|===============================+======================+======================|\n",
      "|   0  GeForce GTX 106...  Off  | 00000000:05:00.0 Off |                  N/A |\n",
      "| 34%   38C    P5    12W / 120W |      0MiB /  6076MiB |      2%      Default |\n",
      "+-------------------------------+----------------------+----------------------+\n",
      "                                                                               \n",
      "+-----------------------------------------------------------------------------+\n",
      "| Processes:                                                       GPU Memory |\n",
      "|  GPU       PID   Type   Process name                             Usage      |\n",
      "|=============================================================================|\n",
      "|  No running processes found                                                 |\n",
      "+-----------------------------------------------------------------------------+\n",
      "\n"
     ]
    }
   ],
   "source": [
    "import subprocess\n",
    "result = subprocess.run(['nvidia-smi'], stdout=subprocess.PIPE)\n",
    "print(result.stdout.decode(\"utf-8\") )"
   ]
  }
 ],
 "metadata": {
  "extensions": {
   "jupyter_dashboards": {
    "activeView": "grid_default",
    "version": 1,
    "views": {
     "grid_default": {
      "cellMargin": 10,
      "defaultCellHeight": 20,
      "maxColumns": 12,
      "name": "grid",
      "type": "grid"
     },
     "report_default": {
      "name": "report",
      "type": "report"
     }
    }
   }
  },
  "kernelspec": {
   "display_name": "Python 3",
   "language": "python",
   "name": "python3"
  },
  "language_info": {
   "codemirror_mode": {
    "name": "ipython",
    "version": 3
   },
   "file_extension": ".py",
   "mimetype": "text/x-python",
   "name": "python",
   "nbconvert_exporter": "python",
   "pygments_lexer": "ipython3",
   "version": "3.5.2"
  }
 },
 "nbformat": 4,
 "nbformat_minor": 4
}
