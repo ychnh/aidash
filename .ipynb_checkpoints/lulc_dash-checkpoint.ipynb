{
 "cells": [
  {
   "cell_type": "code",
   "execution_count": null,
   "metadata": {
    "extensions": {
     "jupyter_dashboards": {
      "version": 1,
      "views": {
       "grid_default": {},
       "report_default": {}
      }
     }
    },
    "slideshow": {
     "slide_type": "fragment"
    }
   },
   "outputs": [
    {
     "data": {
      "application/vnd.jupyter.widget-view+json": {
       "model_id": "d5c888a2718342349941c8bbb86bc44b",
       "version_major": 2,
       "version_minor": 0
      },
      "text/plain": [
       "GridspecLayout(children=(Output(layout=Layout(grid_area='widget002')), Image(value=b'\\x89PNG\\r\\n\\x1a\\n\\x00\\x00…"
      ]
     },
     "metadata": {},
     "output_type": "display_data"
    }
   ],
   "source": [
    "import ipywidgets as widgets\n",
    "from importlib import reload\n",
    "import aidash as aid\n",
    "from PIL import Image\n",
    "import time\n",
    "reload(aid)\n",
    "\n",
    "out1 = widgets.Output()\n",
    "out2 = widgets.Output()\n",
    "img = Image.new('RGB', (100, 100))\n",
    "#img = Image.open('/home/yhong/work/landcover/src/dataset/pix2pix/gan_images/')\n",
    "image = aid.ImageUpdater.image_to_byte_array(img)\n",
    "IM = widgets.Image( value=image, format='png', width=300, height=400)\n",
    " \n",
    "updaters = []\n",
    "updaters.append( aid.ImageUpdater( '/home/yhong/work/landcover/src/detect/lulc/output/', IM ) )\n",
    "updaters.append( aid.GraphUpdater( '/home/yhong/work/landcover/src/detect/lulc/losses.data', out1, ylim=(0,3)) )\n",
    "updaters.append( aid.GraphUpdater( '/home/yhong/work/landcover/src/detect/lulc/val.data', out2) )\n",
    "\n",
    "from ipywidgets import GridspecLayout\n",
    "grid = GridspecLayout(3, 1, height='900px')\n",
    "grid[ 0,0] = out1\n",
    "grid[ 1,0] = out2\n",
    "grid[ 2,0] = IM\n",
    "#grid[ 1,0] = IM\n",
    "display(grid)\n",
    "\n",
    "while True:\n",
    "    time.sleep(1)\n",
    "    for uptr in updaters:\n",
    "        uptr.update()\n"
   ]
  },
  {
   "cell_type": "code",
   "execution_count": null,
   "metadata": {},
   "outputs": [],
   "source": []
  },
  {
   "cell_type": "code",
   "execution_count": null,
   "metadata": {},
   "outputs": [],
   "source": []
  },
  {
   "cell_type": "code",
   "execution_count": null,
   "metadata": {},
   "outputs": [],
   "source": []
  }
 ],
 "metadata": {
  "extensions": {
   "jupyter_dashboards": {
    "activeView": "grid_default",
    "version": 1,
    "views": {
     "grid_default": {
      "cellMargin": 10,
      "defaultCellHeight": 20,
      "maxColumns": 12,
      "name": "grid",
      "type": "grid"
     },
     "report_default": {
      "name": "report",
      "type": "report"
     }
    }
   }
  },
  "kernelspec": {
   "display_name": "Python 3",
   "language": "python",
   "name": "python3"
  },
  "language_info": {
   "codemirror_mode": {
    "name": "ipython",
    "version": 3
   },
   "file_extension": ".py",
   "mimetype": "text/x-python",
   "name": "python",
   "nbconvert_exporter": "python",
   "pygments_lexer": "ipython3",
   "version": "3.5.2"
  }
 },
 "nbformat": 4,
 "nbformat_minor": 4
}
