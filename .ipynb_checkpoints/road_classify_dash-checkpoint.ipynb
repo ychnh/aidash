{
 "cells": [
  {
   "cell_type": "code",
   "execution_count": 2,
   "metadata": {
    "extensions": {
     "jupyter_dashboards": {
      "version": 1,
      "views": {
       "grid_default": {},
       "report_default": {}
      }
     }
    },
    "slideshow": {
     "slide_type": "fragment"
    }
   },
   "outputs": [
    {
     "data": {
      "application/vnd.jupyter.widget-view+json": {
       "model_id": "d087985788b8479cb9b1e8bc15167ec9",
       "version_major": 2,
       "version_minor": 0
      },
      "text/plain": [
       "GridspecLayout(children=(Output(layout=Layout(grid_area='widget001')), Image(value=b'\\x89PNG\\r\\n\\x1a\\n\\x00\\x00…"
      ]
     },
     "metadata": {},
     "output_type": "display_data"
    },
    {
     "ename": "KeyboardInterrupt",
     "evalue": "",
     "output_type": "error",
     "traceback": [
      "\u001b[0;31m---------------------------------------------------------------------------\u001b[0m",
      "\u001b[0;31mKeyboardInterrupt\u001b[0m                         Traceback (most recent call last)",
      "\u001b[0;32m<ipython-input-2-81941a2b3e8f>\u001b[0m in \u001b[0;36m<module>\u001b[0;34m\u001b[0m\n\u001b[1;32m     95\u001b[0m \u001b[0;34m\u001b[0m\u001b[0m\n\u001b[1;32m     96\u001b[0m \u001b[0;32mwhile\u001b[0m \u001b[0;32mTrue\u001b[0m\u001b[0;34m:\u001b[0m\u001b[0;34m\u001b[0m\u001b[0m\n\u001b[0;32m---> 97\u001b[0;31m     \u001b[0mtime\u001b[0m\u001b[0;34m.\u001b[0m\u001b[0msleep\u001b[0m\u001b[0;34m(\u001b[0m\u001b[0;36m1\u001b[0m\u001b[0;34m)\u001b[0m\u001b[0;34m\u001b[0m\u001b[0m\n\u001b[0m\u001b[1;32m     98\u001b[0m     \u001b[0;32mfor\u001b[0m \u001b[0muptr\u001b[0m \u001b[0;32min\u001b[0m \u001b[0mupdaters\u001b[0m\u001b[0;34m:\u001b[0m\u001b[0;34m\u001b[0m\u001b[0m\n\u001b[1;32m     99\u001b[0m         \u001b[0muptr\u001b[0m\u001b[0;34m.\u001b[0m\u001b[0mupdate\u001b[0m\u001b[0;34m(\u001b[0m\u001b[0;34m)\u001b[0m\u001b[0;34m\u001b[0m\u001b[0m\n",
      "\u001b[0;31mKeyboardInterrupt\u001b[0m: "
     ]
    }
   ],
   "source": [
    "import time\n",
    "from os.path import join\n",
    "import os\n",
    "from PIL import Image\n",
    "import ipywidgets as widgets\n",
    "import matplotlib.pyplot as plt\n",
    "import pickle\n",
    "from IPython.display import display,clear_output\n",
    "import io\n",
    "\n",
    "class Updater:\n",
    "    def __init__(self, path, widget):\n",
    "        self.path = path\n",
    "        self.widget = widget\n",
    "        self.widget_updated_time = 0\n",
    "        \n",
    "    def need_update(self):\n",
    "        file_modified_time = os.path.getmtime( self.path )\n",
    "        return (file_modified_time - self.widget_updated_time) > 0\n",
    "    \n",
    "    def reload(self):\n",
    "        if self.need_update():\n",
    "            self.update()\n",
    "            self.widget_updated_time = time.time()\n",
    "            \n",
    "    def update(self):\n",
    "        pass\n",
    "    \n",
    "class ImageUpdater(Updater):\n",
    "    def update(self):\n",
    "        imglist = ImageUpdater._getfiles(self.path, True)\n",
    "        if len(imglist) > 0:\n",
    "            newest_filepath = imglist[0]\n",
    "            \n",
    "            file = open(join(self.path, newest_filepath), \"rb\")\n",
    "            bimg = file.read()\n",
    "        else:\n",
    "            img = Image.new('RGB', (100, 100))\n",
    "            bimg = ImageUpdater.image_to_byte_array(img)\n",
    "            \n",
    "        \n",
    "        self.widget.value = bimg\n",
    "        \n",
    "    @staticmethod\n",
    "    def image_to_byte_array(image):\n",
    "        imgByteArr = io.BytesIO()\n",
    "        image.save(imgByteArr, format='PNG')\n",
    "        imgByteArr = imgByteArr.getvalue()\n",
    "        return imgByteArr\n",
    "            \n",
    "    @staticmethod\n",
    "    def _getfiles(dirpath, newest_first=True):\n",
    "        a = [s for s in os.listdir(dirpath)\n",
    "             if os.path.isfile(os.path.join(dirpath, s))]\n",
    "        a.sort(key=lambda s: os.path.getmtime(os.path.join(dirpath, s)), reverse=newest_first)\n",
    "        return a\n",
    "import random\n",
    "class GraphUpdater(Updater):\n",
    "    \n",
    "    def __init__(self, path, widget):\n",
    "        super().__init__(path, widget)\n",
    "        self.fig, self.axes = plt.subplots()\n",
    "    \n",
    "    def need_update(self):\n",
    "        return True\n",
    "    def update(self):\n",
    "        data = pickle.load( open( self.path, \"rb\" ) )\n",
    "        X = data['x']\n",
    "        Y = data['y']\n",
    "        M = max(Y)\n",
    "        with self.widget:\n",
    "            clear_output(wait=True)\n",
    "            plt.ylim(bottom=0, top=M+M//3)\n",
    "            plt.plot( X, Y) \n",
    "            plt.show(self.fig)\n",
    "        \n",
    "#import subprocess\n",
    "#result = subprocess.run(['nvidia-smi'], stdout=subprocess.PIPE)\n",
    "\n",
    "out1 = widgets.Output()\n",
    "\n",
    "img = Image.new('RGB', (100, 100))\n",
    "image = ImageUpdater.image_to_byte_array(img)\n",
    "IM = widgets.Image( value=image, format='png', width=300, height=400)\n",
    "\n",
    "updaters = []\n",
    "updaters.append( ImageUpdater( '/home/yhong/work/landcover/src/dataset/pix2pix/val_pred/', IM ) )\n",
    "updaters.append( GraphUpdater( '/home/yhong/work/landcover/src/dataset/pix2pix/losses.data', out1) )\n",
    "\n",
    "from ipywidgets import GridspecLayout\n",
    "grid = GridspecLayout(2, 2, width='600px', height='600px',align_items='center', justify_items='center')\n",
    "grid[ 0,0] = out1\n",
    "grid[ 1, 0] = IM\n",
    "display(grid)\n",
    "\n",
    "while True:\n",
    "    time.sleep(1)\n",
    "    for uptr in updaters:\n",
    "        uptr.update()\n"
   ]
  },
  {
   "cell_type": "code",
   "execution_count": null,
   "metadata": {},
   "outputs": [],
   "source": []
  },
  {
   "cell_type": "code",
   "execution_count": null,
   "metadata": {},
   "outputs": [],
   "source": []
  }
 ],
 "metadata": {
  "extensions": {
   "jupyter_dashboards": {
    "activeView": "grid_default",
    "version": 1,
    "views": {
     "grid_default": {
      "cellMargin": 10,
      "defaultCellHeight": 20,
      "maxColumns": 12,
      "name": "grid",
      "type": "grid"
     },
     "report_default": {
      "name": "report",
      "type": "report"
     }
    }
   }
  },
  "kernelspec": {
   "display_name": "Python 3",
   "language": "python",
   "name": "python3"
  },
  "language_info": {
   "codemirror_mode": {
    "name": "ipython",
    "version": 3
   },
   "file_extension": ".py",
   "mimetype": "text/x-python",
   "name": "python",
   "nbconvert_exporter": "python",
   "pygments_lexer": "ipython3",
   "version": "3.5.2"
  }
 },
 "nbformat": 4,
 "nbformat_minor": 4
}
